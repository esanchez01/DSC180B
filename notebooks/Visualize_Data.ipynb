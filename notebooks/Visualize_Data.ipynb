{
 "cells": [
  {
   "cell_type": "code",
   "execution_count": null,
   "metadata": {},
   "outputs": [],
   "source": [
    "import os\n",
    "import sys\n",
    "\n",
    "import sys\n",
    "sys.path.append('../src') \n",
    "\n",
    "# Importing libraries\n",
    "import pandas as pd\n",
    "import numpy as np\n",
    "\n",
    "# Libraries for machine learning\n",
    "from sklearn.model_selection import train_test_split\n",
    "from sklearn.model_selection import GridSearchCV\n",
    "from sklearn.metrics import classification_report\n",
    "from sklearn.linear_model import LogisticRegression\n",
    "from sklearn.neighbors import KNeighborsClassifier\n",
    "from sklearn.svm import SVC\n",
    "from sklearn.naive_bayes import GaussianNB\n",
    "from sklearn.ensemble import RandomForestClassifier\n",
    "from sklearn.model_selection import cross_val_score\n",
    "from sklearn.metrics import f1_score\n",
    "from sklearn.metrics import confusion_matrix\n",
    "from sklearn.tree import DecisionTreeClassifier\n",
    "from sklearn.neural_network import MLPClassifier\n",
    "\n",
    "# Libraries for plotting curves\n",
    "from sklearn.metrics import roc_curve, auc\n",
    "from sklearn.metrics import roc_auc_score\n",
    "import matplotlib.pyplot as plt\n",
    "import seaborn as sns\n",
    "from sklearn.metrics import precision_recall_curve\n",
    "from sklearn.metrics import average_precision_score\n",
    "from itertools import cycle\n",
    "\n",
    "# Importing script\n",
    "import etl as etl\n",
    "import visualize_data as visualize_data\n",
    "\n",
    "import warnings\n",
    "warnings.filterwarnings('ignore')"
   ]
  },
  {
   "cell_type": "code",
   "execution_count": null,
   "metadata": {},
   "outputs": [],
   "source": [
    "# simulated_gwas_fp = '../testdata/gwas/gwas_simulate.csv' \n",
    "# etl.simulate_data('.', simulated_gwas_fp, 5000)\n",
    "simulated_data = pd.read_csv('../data/out/simulated_data.csv')\n",
    "simulated_data.head()"
   ]
  },
  {
   "cell_type": "code",
   "execution_count": null,
   "metadata": {},
   "outputs": [],
   "source": [
    "model_gwas_fp = '../testdata/gwas/gwas_model.csv' \n",
    "model_data = pd.read_csv(model_gwas_fp)\n",
    "subset = set(simulated_data.columns).intersection(model_data['variant_id'].unique())\n",
    "new_columns = list(subset)+['Class']\n",
    "\n",
    "data = simulated_data[new_columns]"
   ]
  },
  {
   "cell_type": "code",
   "execution_count": null,
   "metadata": {},
   "outputs": [],
   "source": [
    "X = data.drop('Class', axis=1)\n",
    "y = data['Class']\n",
    "X_train, X_test, y_train, y_test = train_test_split(X, y, test_size=0.25, random_state=10)"
   ]
  },
  {
   "cell_type": "code",
   "execution_count": null,
   "metadata": {},
   "outputs": [],
   "source": [
    "# get proportion of each class\n",
    "prop_per_class = y.value_counts(normalize=True)\n",
    "prop_per_class"
   ]
  },
  {
   "cell_type": "markdown",
   "metadata": {},
   "source": [
    "## Logistic Regression - Curves"
   ]
  },
  {
   "cell_type": "code",
   "execution_count": null,
   "metadata": {},
   "outputs": [],
   "source": [
    "# fit a model with the best parameters\n",
    "lr_best = LogisticRegression(C=10, tol=0.0001)\n",
    "lr_best.fit(X_train, y_train)\n",
    "\n",
    "# plot multiclass P-R curve\n",
    "lr_pr = visualize_data.plot_precision_recall(\n",
    "    'Logistic Regression', lr_best, X_test, y_test, \n",
    "    n_classes=3, figsize=(16, 10))"
   ]
  },
  {
   "cell_type": "code",
   "execution_count": null,
   "metadata": {},
   "outputs": [],
   "source": [
    "type(lr_pr)"
   ]
  },
  {
   "cell_type": "code",
   "execution_count": null,
   "metadata": {},
   "outputs": [],
   "source": [
    "# fit a model with the best parameters\n",
    "lr_best = LogisticRegression(C=10, tol=0.0001)\n",
    "lr_best.fit(X_train, y_train)\n",
    "\n",
    "# plot multiclass ROC curve\n",
    "lr_roc = visualize_data.plot_multiclass_roc(\n",
    "    'Logistic Regression', lr_best, X_test, y_test, \n",
    "    n_classes=3, figsize=(16, 10))"
   ]
  },
  {
   "cell_type": "markdown",
   "metadata": {},
   "source": [
    "## K Nearest Neighbors - Curves"
   ]
  },
  {
   "cell_type": "code",
   "execution_count": null,
   "metadata": {},
   "outputs": [],
   "source": [
    "# fit a model with the best parameters\n",
    "knn_best = KNeighborsClassifier(n_neighbors=3, p=3)\n",
    "knn_best.fit(X_train, y_train)\n",
    "\n",
    "# plot multiclass P-R curve\n",
    "knn_pr = visualize_data.plot_precision_recall(\n",
    "    'K Nearest Neighbors', knn_best, X_test, y_test, \n",
    "    n_classes=3, figsize=(16, 10))"
   ]
  },
  {
   "cell_type": "code",
   "execution_count": null,
   "metadata": {},
   "outputs": [],
   "source": [
    "# fit a model with the best parameters\n",
    "knn_best = KNeighborsClassifier(n_neighbors=3, p=3)\n",
    "knn_best.fit(X_train, y_train)\n",
    "\n",
    "# plot multiclass ROC curve\n",
    "knn_roc = visualize_data.plot_multiclass_roc(\n",
    "    'K Nearest Neighbors', knn_best, X_test, y_test, \n",
    "    n_classes=3, figsize=(16, 10))"
   ]
  },
  {
   "cell_type": "markdown",
   "metadata": {},
   "source": [
    "## SVM - Curves"
   ]
  },
  {
   "cell_type": "code",
   "execution_count": null,
   "metadata": {},
   "outputs": [],
   "source": [
    "# fit a model with the best parameters\n",
    "svc_best = SVC(C=10, tol=0.1)\n",
    "svc_best.fit(X_train, y_train)\n",
    "\n",
    "# plot multiclass P-R curve\n",
    "svc_pr = visualize_data.plot_precision_recall(\n",
    "    'Support Vector Machine', svc_best, X_test, y_test, \n",
    "    n_classes=3, figsize=(16, 10))"
   ]
  },
  {
   "cell_type": "code",
   "execution_count": null,
   "metadata": {},
   "outputs": [],
   "source": [
    "# fit a model with the best parameters\n",
    "svc_best = SVC(C=10, tol=0.1)\n",
    "svc_best.fit(X_train, y_train)\n",
    "\n",
    "# plot multiclass ROC curve\n",
    "svc_roc = visualize_data.plot_multiclass_roc(\n",
    "    'Support Vector Machine', svc_best, X_test, y_test, \n",
    "    n_classes=3, figsize=(16, 10))"
   ]
  },
  {
   "cell_type": "markdown",
   "metadata": {},
   "source": [
    "## Gaussian NB - Curves"
   ]
  },
  {
   "cell_type": "code",
   "execution_count": null,
   "metadata": {},
   "outputs": [],
   "source": [
    "# fit a model with the best parameters\n",
    "gnb_best = GaussianNB(priors=[0.333, 0.333, 0.334], var_smoothing=0.1)\n",
    "gnb_best.fit(X_train, y_train)\n",
    "\n",
    "# plot multiclass P-R curve\n",
    "gnb_pr = visualize_data.plot_precision_recall(\n",
    "    'Naive Bayes', gnb_best, X_test, y_test, \n",
    "    n_classes=3, figsize=(16, 10))"
   ]
  },
  {
   "cell_type": "code",
   "execution_count": null,
   "metadata": {},
   "outputs": [],
   "source": [
    "# fit a model with the best parameters\n",
    "gnb_best = GaussianNB(priors=[0.333, 0.333, 0.334], var_smoothing=0.1)\n",
    "gnb_best.fit(X_train, y_train)\n",
    "\n",
    "# plot multiclass ROC curve\n",
    "gnb_roc = visualize_data.plot_multiclass_roc(\n",
    "    'Naive Bayes', gnb_best, X_test, y_test, \n",
    "    n_classes=3, figsize=(16, 10))"
   ]
  },
  {
   "cell_type": "markdown",
   "metadata": {},
   "source": [
    "## Random Forest - Curves"
   ]
  },
  {
   "cell_type": "code",
   "execution_count": null,
   "metadata": {},
   "outputs": [],
   "source": [
    "# fit a model with the best parameters\n",
    "rf_best = RandomForestClassifier(class_weight={0: 0.55, 1: 0.3, 2: 0.15}, \n",
    "                                 n_estimators=200)\n",
    "rf_best.fit(X_train, y_train)\n",
    "\n",
    "# plot multiclass P-R curve\n",
    "rf_pr = visualize_data.plot_precision_recall(\n",
    "    'Random Forest', rf_best, X_test, y_test, \n",
    "    n_classes=3, figsize=(16, 10))"
   ]
  },
  {
   "cell_type": "code",
   "execution_count": null,
   "metadata": {},
   "outputs": [],
   "source": [
    "# fit a model with the best parameters\n",
    "rf_best = RandomForestClassifier(class_weight={0: 0.55, 1: 0.3, 2: 0.15}, \n",
    "                                 n_estimators=200)\n",
    "rf_best.fit(X_train, y_train)\n",
    "\n",
    "# plot multiclass ROC curve\n",
    "rf_roc = visualize_data.plot_multiclass_roc(\n",
    "    'Random Forest', rf_best, X_test, y_test, \n",
    "    n_classes=3, figsize=(16, 10))"
   ]
  },
  {
   "cell_type": "markdown",
   "metadata": {},
   "source": [
    "## Decision Tree - Curves"
   ]
  },
  {
   "cell_type": "code",
   "execution_count": null,
   "metadata": {},
   "outputs": [],
   "source": [
    "# fit a model with the best parameters\n",
    "dt_best = DecisionTreeClassifier()\n",
    "dt_best.fit(X_train, y_train)\n",
    "\n",
    "# plot multiclass P-R curve\n",
    "dt_pr = visualize_data.plot_precision_recall(\n",
    "    'Decision Tree', dt_best, X_test, y_test, \n",
    "    n_classes=3, figsize=(16, 10))"
   ]
  },
  {
   "cell_type": "code",
   "execution_count": null,
   "metadata": {},
   "outputs": [],
   "source": [
    "# fit a model with the best parameters\n",
    "dt_best = DecisionTreeClassifier()\n",
    "dt_best.fit(X_train, y_train)\n",
    "\n",
    "# plot multiclass ROC curve\n",
    "dt_roc = visualize_data.plot_multiclass_roc(\n",
    "    'Decision Tree', dt_best, X_test, y_test, \n",
    "    n_classes=3, figsize=(16, 10))"
   ]
  },
  {
   "cell_type": "markdown",
   "metadata": {},
   "source": [
    "## Change working directory to the project directory (instead of the notebooks directory)"
   ]
  },
  {
   "cell_type": "code",
   "execution_count": null,
   "metadata": {},
   "outputs": [],
   "source": [
    "sys.path"
   ]
  },
  {
   "cell_type": "code",
   "execution_count": null,
   "metadata": {},
   "outputs": [],
   "source": [
    "!pwd"
   ]
  },
  {
   "cell_type": "code",
   "execution_count": null,
   "metadata": {},
   "outputs": [],
   "source": [
    "os.chdir('../')"
   ]
  },
  {
   "cell_type": "code",
   "execution_count": null,
   "metadata": {},
   "outputs": [],
   "source": [
    "!pwd"
   ]
  },
  {
   "cell_type": "code",
   "execution_count": null,
   "metadata": {},
   "outputs": [],
   "source": [
    "sys.path"
   ]
  },
  {
   "cell_type": "markdown",
   "metadata": {},
   "source": [
    "## Import visualize_data.py to test code"
   ]
  },
  {
   "cell_type": "code",
   "execution_count": null,
   "metadata": {},
   "outputs": [],
   "source": [
    "from src import visualize_data;"
   ]
  },
  {
   "cell_type": "code",
   "execution_count": null,
   "metadata": {},
   "outputs": [],
   "source": [
    "# test function from visualize_data.py\n",
    "fp = './data/out/simulated_data.csv'\n",
    "visualize_data.plot_polygenic_risk_scores(fp)"
   ]
  },
  {
   "cell_type": "code",
   "execution_count": null,
   "metadata": {},
   "outputs": [],
   "source": [
    "# test function from visualize_data.py\n",
    "fp = './data/out/simulated_data.csv'\n",
    "visualize_data.plot_risk_across_classes(fp)"
   ]
  },
  {
   "cell_type": "markdown",
   "metadata": {},
   "source": [
    "## Command line to run project"
   ]
  },
  {
   "cell_type": "code",
   "execution_count": null,
   "metadata": {},
   "outputs": [],
   "source": [
    "# command line to run project\n",
    "!python run.py test"
   ]
  },
  {
   "cell_type": "code",
   "execution_count": null,
   "metadata": {},
   "outputs": [],
   "source": []
  }
 ],
 "metadata": {
  "kernelspec": {
   "display_name": "Python 3",
   "language": "python",
   "name": "python3"
  },
  "language_info": {
   "codemirror_mode": {
    "name": "ipython",
    "version": 3
   },
   "file_extension": ".py",
   "mimetype": "text/x-python",
   "name": "python",
   "nbconvert_exporter": "python",
   "pygments_lexer": "ipython3",
   "version": "3.7.3"
  }
 },
 "nbformat": 4,
 "nbformat_minor": 2
}
